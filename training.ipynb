{
 "cells": [
  {
   "cell_type": "markdown",
   "id": "through-berlin",
   "metadata": {},
   "source": [
    "# Classificador facial de olhos abertos ou fechados\n",
    "## Projeto VIII - Visão Computacional e Aprendizado de Máquina \n",
    "Autor: Luís Gabriel Pereira Condados"
   ]
  },
  {
   "cell_type": "code",
   "execution_count": 1,
   "id": "comfortable-freeware",
   "metadata": {},
   "outputs": [],
   "source": [
    "import cv2\n",
    "import dlib\n",
    "import numpy as np\n",
    "import matplotlib.pyplot as plt\n",
    "import seaborn as sns\n",
    "import pandas as pd\n",
    "\n",
    "import myUtils"
   ]
  },
  {
   "cell_type": "markdown",
   "id": "charitable-details",
   "metadata": {},
   "source": [
    "Download do shape_predictor: http://dlib.net/files/shape_predictor_68_face_landmarks.dat.bz2"
   ]
  },
  {
   "cell_type": "code",
   "execution_count": 2,
   "id": "advanced-sense",
   "metadata": {},
   "outputs": [],
   "source": [
    "# detector de faces\n",
    "detector  = dlib.get_frontal_face_detector()\n",
    "# identificador dos landmarks\n",
    "predictor = dlib.shape_predictor(\"../shape_predictor_68_face_landmarks.dat\")"
   ]
  },
  {
   "cell_type": "markdown",
   "id": "sacred-practice",
   "metadata": {},
   "source": [
    "## Carregando o dataset"
   ]
  },
  {
   "cell_type": "code",
   "execution_count": 3,
   "id": "driving-corrections",
   "metadata": {},
   "outputs": [],
   "source": [
    "train_df = pd.read_csv(\"dataset/train_set.csv\", index_col=0)\n",
    "valid_df = pd.read_csv(\"dataset/valid_set.csv\", index_col=0)"
   ]
  },
  {
   "cell_type": "code",
   "execution_count": 4,
   "id": "worldwide-benefit",
   "metadata": {},
   "outputs": [],
   "source": [
    "X_ear_train = train_df.iloc[:,1:3].to_numpy()\n",
    "X_ear_valid = valid_df.iloc[:,1:3].to_numpy()\n",
    "\n",
    "X_ear_hist_train = train_df.iloc[:,1:11].to_numpy()\n",
    "X_ear_hist_valid = valid_df.iloc[:,1:11].to_numpy()\n",
    "\n",
    "y_train = train_df['y'].to_numpy()\n",
    "y_valid = valid_df['y'].to_numpy()"
   ]
  },
  {
   "cell_type": "markdown",
   "id": "nervous-shape",
   "metadata": {},
   "source": [
    "## Criando o modelo, o classificador"
   ]
  },
  {
   "cell_type": "markdown",
   "id": "future-complaint",
   "metadata": {},
   "source": [
    "#### Função simples para classificar com base apenas no EAR"
   ]
  },
  {
   "cell_type": "code",
   "execution_count": 5,
   "id": "cheap-night",
   "metadata": {},
   "outputs": [],
   "source": [
    "# X vetor de features: EAR_LEFT, EAR_RIGHT\n",
    "def my_simple_classifier(X, thr=0.2):\n",
    "    y_pred = [(np.average(xi) >= thr) for xi in X]\n",
    "    return np.array(y_pred,dtype='int')"
   ]
  },
  {
   "cell_type": "code",
   "execution_count": 6,
   "id": "emotional-score",
   "metadata": {},
   "outputs": [],
   "source": [
    "from sklearn import svm\n",
    "from sklearn import tree\n",
    "from sklearn.ensemble import RandomForestClassifier\n",
    "from sklearn.neural_network import MLPClassifier"
   ]
  },
  {
   "cell_type": "markdown",
   "id": "headed-clark",
   "metadata": {},
   "source": [
    "**Decision Tree**"
   ]
  },
  {
   "cell_type": "code",
   "execution_count": 7,
   "id": "western-execution",
   "metadata": {},
   "outputs": [],
   "source": [
    "# Decision Tree\n",
    "tree_model= tree.DecisionTreeClassifier()"
   ]
  },
  {
   "cell_type": "markdown",
   "id": "personal-insertion",
   "metadata": {},
   "source": [
    "**RandomForest Classifier**"
   ]
  },
  {
   "cell_type": "code",
   "execution_count": 8,
   "id": "unsigned-spouse",
   "metadata": {},
   "outputs": [],
   "source": [
    "# Random Forest\n",
    "rforest_model = RandomForestClassifier(n_estimators=10, max_depth=None)"
   ]
  },
  {
   "cell_type": "markdown",
   "id": "ideal-minneapolis",
   "metadata": {},
   "source": [
    "**SVM**"
   ]
  },
  {
   "cell_type": "code",
   "execution_count": 9,
   "id": "emotional-district",
   "metadata": {},
   "outputs": [],
   "source": [
    "# SVM\n",
    "# svm_model = svm.SVC(C=1.0,kernel='linear')\n",
    "svm_model = svm.SVC(C=2.0)"
   ]
  },
  {
   "cell_type": "markdown",
   "id": "better-throat",
   "metadata": {},
   "source": [
    "**MLP**"
   ]
  },
  {
   "cell_type": "code",
   "execution_count": 10,
   "id": "secondary-works",
   "metadata": {},
   "outputs": [],
   "source": [
    "mlp_model = MLPClassifier(hidden_layer_sizes=(64, 32,), \n",
    "                          activation='relu', \n",
    "                          solver='adam', \n",
    "                          batch_size=30, \n",
    "                          early_stopping=True,\n",
    "                          max_iter=100,\n",
    "                          verbose=False)"
   ]
  },
  {
   "cell_type": "markdown",
   "id": "cooperative-wallace",
   "metadata": {},
   "source": [
    "## Treinamento"
   ]
  },
  {
   "cell_type": "markdown",
   "id": "overhead-barrel",
   "metadata": {},
   "source": [
    "### Usando apenas EAR"
   ]
  },
  {
   "cell_type": "code",
   "execution_count": 11,
   "id": "ranging-delta",
   "metadata": {},
   "outputs": [
    {
     "data": {
      "text/plain": [
       "DecisionTreeClassifier()"
      ]
     },
     "execution_count": 11,
     "metadata": {},
     "output_type": "execute_result"
    }
   ],
   "source": [
    "tree_model.fit(X_ear_train, y_train)"
   ]
  },
  {
   "cell_type": "code",
   "execution_count": 12,
   "id": "respected-douglas",
   "metadata": {},
   "outputs": [
    {
     "data": {
      "text/plain": [
       "RandomForestClassifier(n_estimators=10)"
      ]
     },
     "execution_count": 12,
     "metadata": {},
     "output_type": "execute_result"
    }
   ],
   "source": [
    "rforest_model.fit(X_ear_train, y_train)"
   ]
  },
  {
   "cell_type": "code",
   "execution_count": 13,
   "id": "timely-amazon",
   "metadata": {},
   "outputs": [
    {
     "data": {
      "text/plain": [
       "SVC(C=2.0)"
      ]
     },
     "execution_count": 13,
     "metadata": {},
     "output_type": "execute_result"
    }
   ],
   "source": [
    "svm_model.fit(X_ear_train, y_train)"
   ]
  },
  {
   "cell_type": "code",
   "execution_count": 14,
   "id": "million-louis",
   "metadata": {},
   "outputs": [
    {
     "name": "stdout",
     "output_type": "stream",
     "text": [
      "Best Valid Score =  0.8608247422680413\n"
     ]
    }
   ],
   "source": [
    "mlp_model.fit(X_ear_train, y_train)\n",
    "print(\"Best Valid Score = \", mlp_model.best_validation_score_)"
   ]
  },
  {
   "cell_type": "code",
   "execution_count": 15,
   "id": "english-public",
   "metadata": {},
   "outputs": [
    {
     "data": {
      "image/png": "[encoded data removed]",
      "text/plain": [
       "<Figure size 432x288 with 1 Axes>"
      ]
     },
     "metadata": {
      "needs_background": "light"
     },
     "output_type": "display_data"
    }
   ],
   "source": [
    "epochs = range(1,len(mlp_model.loss_curve_)+1)\n",
    "\n",
    "plt.plot(epochs, mlp_model.loss_curve_, label='train')\n",
    "plt.xlabel(\"epochs\")\n",
    "plt.ylabel(\"loss\")\n",
    "plt.grid()\n",
    "plt.legend()\n",
    "plt.show()"
   ]
  },
  {
   "cell_type": "markdown",
   "id": "physical-provider",
   "metadata": {},
   "source": [
    "## Validação"
   ]
  },
  {
   "cell_type": "code",
   "execution_count": 16,
   "id": "integrated-toyota",
   "metadata": {},
   "outputs": [],
   "source": [
    "def validation(y_true, y_pred):\n",
    "    cm = myUtils.confusion_matrix(y_true, y_pred)\n",
    "    sns.heatmap(cm, annot=True)\n",
    "    plt.show()\n",
    "\n",
    "    metrics = myUtils.compute_metrics_from_cm(cm)\n",
    "    print(\"Accuracy = {:.2f}%\".format(metrics['accuracy']*100))"
   ]
  },
  {
   "cell_type": "markdown",
   "id": "corrected-administrator",
   "metadata": {},
   "source": [
    "**Simple Classifier**"
   ]
  },
  {
   "cell_type": "code",
   "execution_count": 17,
   "id": "downtown-blast",
   "metadata": {},
   "outputs": [
    {
     "data": {
      "image/png": "[encoded data removed]",
      "text/plain": [
       "<Figure size 432x288 with 2 Axes>"
      ]
     },
     "metadata": {
      "needs_background": "light"
     },
     "output_type": "display_data"
    },
    {
     "name": "stdout",
     "output_type": "stream",
     "text": [
      "Accuracy = 81.86%\n"
     ]
    }
   ],
   "source": [
    "y_pred = my_simple_classifier(X_ear_valid, thr=0.25)\n",
    "\n",
    "validation(y_valid, y_pred)"
   ]
  },
  {
   "cell_type": "markdown",
   "id": "understood-nitrogen",
   "metadata": {},
   "source": [
    "**Decision Tree**"
   ]
  },
  {
   "cell_type": "code",
   "execution_count": 18,
   "id": "healthy-applicant",
   "metadata": {},
   "outputs": [
    {
     "data": {
      "image/png": "[encoded data removed]",
      "text/plain": [
       "<Figure size 432x288 with 2 Axes>"
      ]
     },
     "metadata": {
      "needs_background": "light"
     },
     "output_type": "display_data"
    },
    {
     "name": "stdout",
     "output_type": "stream",
     "text": [
      "Accuracy = 76.49%\n"
     ]
    }
   ],
   "source": [
    "y_pred = tree_model.predict(X_ear_valid)\n",
    "\n",
    "validation(y_valid, y_pred)"
   ]
  },
  {
   "cell_type": "markdown",
   "id": "optimum-glucose",
   "metadata": {},
   "source": [
    "**Random Forest**"
   ]
  },
  {
   "cell_type": "code",
   "execution_count": 19,
   "id": "brown-waters",
   "metadata": {},
   "outputs": [
    {
     "data": {
      "image/png": "[encoded data removed]",
      "text/plain": [
       "<Figure size 432x288 with 2 Axes>"
      ]
     },
     "metadata": {
      "needs_background": "light"
     },
     "output_type": "display_data"
    },
    {
     "name": "stdout",
     "output_type": "stream",
     "text": [
      "Accuracy = 82.06%\n"
     ]
    }
   ],
   "source": [
    "y_pred = rforest_model.predict(X_ear_valid)\n",
    "\n",
    "validation(y_valid, y_pred)"
   ]
  },
  {
   "cell_type": "markdown",
   "id": "abstract-sugar",
   "metadata": {},
   "source": [
    "**SVM**"
   ]
  },
  {
   "cell_type": "code",
   "execution_count": 20,
   "id": "ready-prospect",
   "metadata": {},
   "outputs": [
    {
     "data": {
      "image/png": "[encoded data removed]",
      "text/plain": [
       "<Figure size 432x288 with 2 Axes>"
      ]
     },
     "metadata": {
      "needs_background": "light"
     },
     "output_type": "display_data"
    },
    {
     "name": "stdout",
     "output_type": "stream",
     "text": [
      "Accuracy = 84.12%\n"
     ]
    }
   ],
   "source": [
    "y_pred = svm_model.predict(X_ear_valid)\n",
    "\n",
    "validation(y_valid, y_pred)"
   ]
  },
  {
   "cell_type": "markdown",
   "id": "martial-eight",
   "metadata": {},
   "source": [
    "**MLP**"
   ]
  },
  {
   "cell_type": "code",
   "execution_count": 21,
   "id": "located-perry",
   "metadata": {},
   "outputs": [
    {
     "data": {
      "image/png": "[encoded data removed]",
      "text/plain": [
       "<Figure size 432x288 with 2 Axes>"
      ]
     },
     "metadata": {
      "needs_background": "light"
     },
     "output_type": "display_data"
    },
    {
     "name": "stdout",
     "output_type": "stream",
     "text": [
      "Accuracy = 84.33%\n"
     ]
    }
   ],
   "source": [
    "y_pred = mlp_model.predict(X_ear_valid)\n",
    "\n",
    "validation(y_valid, y_pred)"
   ]
  },
  {
   "cell_type": "markdown",
   "id": "occupational-wealth",
   "metadata": {},
   "source": [
    "### Usando EAR + HIST"
   ]
  },
  {
   "cell_type": "code",
   "execution_count": 22,
   "id": "filled-exploration",
   "metadata": {},
   "outputs": [
    {
     "data": {
      "text/plain": [
       "DecisionTreeClassifier()"
      ]
     },
     "execution_count": 22,
     "metadata": {},
     "output_type": "execute_result"
    }
   ],
   "source": [
    "tree_model.fit(X_ear_hist_train, y_train)"
   ]
  },
  {
   "cell_type": "code",
   "execution_count": 23,
   "id": "animal-permit",
   "metadata": {},
   "outputs": [
    {
     "data": {
      "text/plain": [
       "RandomForestClassifier(n_estimators=10)"
      ]
     },
     "execution_count": 23,
     "metadata": {},
     "output_type": "execute_result"
    }
   ],
   "source": [
    "rforest_model.fit(X_ear_hist_train, y_train)"
   ]
  },
  {
   "cell_type": "code",
   "execution_count": 24,
   "id": "working-twelve",
   "metadata": {},
   "outputs": [
    {
     "data": {
      "text/plain": [
       "SVC(C=2.0)"
      ]
     },
     "execution_count": 24,
     "metadata": {},
     "output_type": "execute_result"
    }
   ],
   "source": [
    "svm_model.fit(X_ear_hist_train, y_train)"
   ]
  },
  {
   "cell_type": "code",
   "execution_count": 25,
   "id": "color-daisy",
   "metadata": {},
   "outputs": [
    {
     "name": "stdout",
     "output_type": "stream",
     "text": [
      "Best Valid Score =  0.865979381443299\n"
     ]
    }
   ],
   "source": [
    "mlp_model.fit(X_ear_hist_train, y_train)\n",
    "print(\"Best Valid Score = \", mlp_model.best_validation_score_)"
   ]
  },
  {
   "cell_type": "code",
   "execution_count": 26,
   "id": "neither-feeling",
   "metadata": {},
   "outputs": [
    {
     "data": {
      "image/png": "[encoded data removed]",
      "text/plain": [
       "<Figure size 432x288 with 1 Axes>"
      ]
     },
     "metadata": {
      "needs_background": "light"
     },
     "output_type": "display_data"
    }
   ],
   "source": [
    "epochs = range(1,len(mlp_model.loss_curve_)+1)\n",
    "\n",
    "plt.plot(epochs, mlp_model.loss_curve_, label='train')\n",
    "plt.xlabel(\"epochs\")\n",
    "plt.ylabel(\"loss\")\n",
    "plt.grid()\n",
    "plt.legend()\n",
    "plt.show()"
   ]
  },
  {
   "cell_type": "markdown",
   "id": "passive-company",
   "metadata": {},
   "source": [
    "## Validação"
   ]
  },
  {
   "cell_type": "markdown",
   "id": "thrown-naples",
   "metadata": {},
   "source": [
    "**Decision Tree**"
   ]
  },
  {
   "cell_type": "code",
   "execution_count": 27,
   "id": "classical-defeat",
   "metadata": {},
   "outputs": [
    {
     "data": {
      "image/png": "[encoded data removed]",
      "text/plain": [
       "<Figure size 432x288 with 2 Axes>"
      ]
     },
     "metadata": {
      "needs_background": "light"
     },
     "output_type": "display_data"
    },
    {
     "name": "stdout",
     "output_type": "stream",
     "text": [
      "Accuracy = 78.97%\n"
     ]
    }
   ],
   "source": [
    "y_pred = tree_model.predict(X_ear_hist_valid)\n",
    "\n",
    "validation(y_valid, y_pred)"
   ]
  },
  {
   "cell_type": "markdown",
   "id": "prepared-french",
   "metadata": {},
   "source": [
    "**Random Forest**"
   ]
  },
  {
   "cell_type": "code",
   "execution_count": 28,
   "id": "efficient-medline",
   "metadata": {},
   "outputs": [
    {
     "data": {
      "image/png": "[encoded data removed]",
      "text/plain": [
       "<Figure size 432x288 with 2 Axes>"
      ]
     },
     "metadata": {
      "needs_background": "light"
     },
     "output_type": "display_data"
    },
    {
     "name": "stdout",
     "output_type": "stream",
     "text": [
      "Accuracy = 84.33%\n"
     ]
    }
   ],
   "source": [
    "y_pred = rforest_model.predict(X_ear_hist_valid)\n",
    "\n",
    "validation(y_valid, y_pred)"
   ]
  },
  {
   "cell_type": "markdown",
   "id": "blank-washington",
   "metadata": {},
   "source": [
    "**SVM**"
   ]
  },
  {
   "cell_type": "code",
   "execution_count": 29,
   "id": "cathedral-terminal",
   "metadata": {},
   "outputs": [
    {
     "data": {
      "image/png": "[encoded data removed]",
      "text/plain": [
       "<Figure size 432x288 with 2 Axes>"
      ]
     },
     "metadata": {
      "needs_background": "light"
     },
     "output_type": "display_data"
    },
    {
     "name": "stdout",
     "output_type": "stream",
     "text": [
      "Accuracy = 86.80%\n"
     ]
    }
   ],
   "source": [
    "y_pred = svm_model.predict(X_ear_hist_valid)\n",
    "\n",
    "validation(y_valid, y_pred)"
   ]
  },
  {
   "cell_type": "markdown",
   "id": "offensive-forest",
   "metadata": {},
   "source": [
    "**MLP**"
   ]
  },
  {
   "cell_type": "code",
   "execution_count": 30,
   "id": "brilliant-battery",
   "metadata": {},
   "outputs": [
    {
     "data": {
      "image/png": "[encoded data removed]",
      "text/plain": [
       "<Figure size 432x288 with 2 Axes>"
      ]
     },
     "metadata": {
      "needs_background": "light"
     },
     "output_type": "display_data"
    },
    {
     "name": "stdout",
     "output_type": "stream",
     "text": [
      "Accuracy = 85.36%\n"
     ]
    }
   ],
   "source": [
    "y_pred = mlp_model.predict(X_ear_hist_valid)\n",
    "\n",
    "validation(y_valid, y_pred)"
   ]
  }
 ],
 "metadata": {
  "kernelspec": {
   "display_name": "Python 3",
   "language": "python",
   "name": "python3"
  },
  "language_info": {
   "codemirror_mode": {
    "name": "ipython",
    "version": 3
   },
   "file_extension": ".py",
   "mimetype": "text/x-python",
   "name": "python",
   "nbconvert_exporter": "python",
   "pygments_lexer": "ipython3",
   "version": "3.8.5"
  }
 },
 "nbformat": 4,
 "nbformat_minor": 5
}
