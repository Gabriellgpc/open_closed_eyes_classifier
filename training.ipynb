{
 "cells": [
  {
   "cell_type": "markdown",
   "id": "through-berlin",
   "metadata": {},
   "source": [
    "# Classificador facial de olhos abertos ou fechados\n",
    "## Projeto VIII - Visão Computacional e Aprendizado de Máquina \n",
    "Autor: Luís Gabriel Pereira Condados"
   ]
  },
  {
   "cell_type": "code",
   "execution_count": 1,
   "id": "comfortable-freeware",
   "metadata": {},
   "outputs": [],
   "source": [
    "import cv2\n",
    "import dlib\n",
    "import numpy as np\n",
    "import matplotlib.pyplot as plt\n",
    "import seaborn as sns\n",
    "import pandas as pd\n",
    "\n",
    "import myUtils"
   ]
  },
  {
   "cell_type": "markdown",
   "id": "charitable-details",
   "metadata": {},
   "source": [
    "Download do shape_predictor: http://dlib.net/files/shape_predictor_68_face_landmarks.dat.bz2"
   ]
  },
  {
   "cell_type": "code",
   "execution_count": 2,
   "id": "advanced-sense",
   "metadata": {},
   "outputs": [],
   "source": [
    "# detector de faces\n",
    "detector  = dlib.get_frontal_face_detector()\n",
    "# identificador dos landmarks\n",
    "predictor = dlib.shape_predictor(\"../shape_predictor_68_face_landmarks.dat\")"
   ]
  },
  {
   "cell_type": "markdown",
   "id": "sacred-practice",
   "metadata": {},
   "source": [
    "## Carregando o dataset"
   ]
  },
  {
   "cell_type": "code",
   "execution_count": 3,
   "id": "packed-minister",
   "metadata": {},
   "outputs": [],
   "source": [
    "df_train = pd.read_csv(\"dataset/train_set.csv\", index_col=0)\n",
    "df_test  = pd.read_csv(\"dataset/test_set.csv\", index_col=0)"
   ]
  },
  {
   "cell_type": "code",
   "execution_count": 4,
   "id": "furnished-albany",
   "metadata": {},
   "outputs": [],
   "source": [
    "X_ear_train = df_train.iloc[:,1:3].to_numpy()\n",
    "X_ear_test = df_test.iloc[:,1:3].to_numpy()\n",
    "\n",
    "X_ear_hist_train = df_train.iloc[:,1:11].to_numpy()\n",
    "X_ear_hist_test = df_test.iloc[:,1:11].to_numpy()\n",
    "\n",
    "y_train = df_train.iloc[:,-1].to_numpy()\n",
    "y_test = df_test.iloc[:,-1].to_numpy()"
   ]
  },
  {
   "cell_type": "markdown",
   "id": "nervous-shape",
   "metadata": {},
   "source": [
    "## Criando o modelo, o classificador"
   ]
  },
  {
   "cell_type": "markdown",
   "id": "complete-contents",
   "metadata": {},
   "source": [
    "#### Função simples para classificar com base apenas no EAR"
   ]
  },
  {
   "cell_type": "code",
   "execution_count": 5,
   "id": "occupied-shooting",
   "metadata": {},
   "outputs": [],
   "source": [
    "# X vetor de features: EAR_LEFT, EAR_RIGHT\n",
    "def my_simple_classifier(X, thr=0.2):\n",
    "    y_pred = [(np.average(xi) >= thr) for xi in X]\n",
    "    return np.array(y_pred,dtype='int')"
   ]
  },
  {
   "cell_type": "code",
   "execution_count": 6,
   "id": "emotional-score",
   "metadata": {},
   "outputs": [],
   "source": [
    "from sklearn import svm\n",
    "from sklearn import tree\n",
    "from sklearn.ensemble import RandomForestClassifier\n",
    "from sklearn.neural_network import MLPClassifier"
   ]
  },
  {
   "cell_type": "markdown",
   "id": "bigger-inclusion",
   "metadata": {},
   "source": [
    "**Decision Tree**"
   ]
  },
  {
   "cell_type": "code",
   "execution_count": 7,
   "id": "distinguished-solomon",
   "metadata": {},
   "outputs": [],
   "source": [
    "# Decision Tree\n",
    "tree_model= tree.DecisionTreeClassifier()"
   ]
  },
  {
   "cell_type": "markdown",
   "id": "naughty-surge",
   "metadata": {},
   "source": [
    "**RandomForest Classifier**"
   ]
  },
  {
   "cell_type": "code",
   "execution_count": 8,
   "id": "maritime-world",
   "metadata": {},
   "outputs": [],
   "source": [
    "# Random Forest\n",
    "rforest_model = RandomForestClassifier(n_estimators=10, max_depth=None)"
   ]
  },
  {
   "cell_type": "markdown",
   "id": "expanded-fighter",
   "metadata": {},
   "source": [
    "**SVM**"
   ]
  },
  {
   "cell_type": "code",
   "execution_count": 9,
   "id": "adapted-mortality",
   "metadata": {},
   "outputs": [],
   "source": [
    "# SVM\n",
    "# svm_model = svm.SVC(C=1.0,kernel='linear')\n",
    "svm_model = svm.SVC(C=2.0)"
   ]
  },
  {
   "cell_type": "markdown",
   "id": "adjacent-student",
   "metadata": {},
   "source": [
    "**MLP**"
   ]
  },
  {
   "cell_type": "code",
   "execution_count": 10,
   "id": "altered-standard",
   "metadata": {},
   "outputs": [],
   "source": [
    "mlp_model = MLPClassifier(hidden_layer_sizes=(64, 32,), \n",
    "                          activation='relu', \n",
    "                          solver='adam', \n",
    "                          batch_size=30, \n",
    "                          early_stopping=True,\n",
    "                          max_iter=100,\n",
    "                          verbose=False)"
   ]
  },
  {
   "cell_type": "markdown",
   "id": "cooperative-wallace",
   "metadata": {},
   "source": [
    "## Treinamento"
   ]
  },
  {
   "cell_type": "markdown",
   "id": "modern-arkansas",
   "metadata": {},
   "source": [
    "### Usando apenas EAR"
   ]
  },
  {
   "cell_type": "code",
   "execution_count": 11,
   "id": "neutral-pendant",
   "metadata": {},
   "outputs": [
    {
     "data": {
      "text/plain": [
       "DecisionTreeClassifier()"
      ]
     },
     "execution_count": 11,
     "metadata": {},
     "output_type": "execute_result"
    }
   ],
   "source": [
    "tree_model.fit(X_ear_train, y_train)"
   ]
  },
  {
   "cell_type": "code",
   "execution_count": 12,
   "id": "designing-produce",
   "metadata": {},
   "outputs": [
    {
     "data": {
      "text/plain": [
       "RandomForestClassifier(n_estimators=10)"
      ]
     },
     "execution_count": 12,
     "metadata": {},
     "output_type": "execute_result"
    }
   ],
   "source": [
    "rforest_model.fit(X_ear_train, y_train)"
   ]
  },
  {
   "cell_type": "code",
   "execution_count": 13,
   "id": "timely-amazon",
   "metadata": {},
   "outputs": [
    {
     "data": {
      "text/plain": [
       "SVC(C=2.0)"
      ]
     },
     "execution_count": 13,
     "metadata": {},
     "output_type": "execute_result"
    }
   ],
   "source": [
    "svm_model.fit(X_ear_train, y_train)"
   ]
  },
  {
   "cell_type": "code",
   "execution_count": 14,
   "id": "excess-affair",
   "metadata": {},
   "outputs": [
    {
     "name": "stdout",
     "output_type": "stream",
     "text": [
      "Best Valid Score =  0.8505154639175257\n"
     ]
    }
   ],
   "source": [
    "mlp_model.fit(X_ear_train, y_train)\n",
    "print(\"Best Valid Score = \", mlp_model.best_validation_score_)"
   ]
  },
  {
   "cell_type": "code",
   "execution_count": 15,
   "id": "social-louisiana",
   "metadata": {},
   "outputs": [
    {
     "data": {
      "image/png": "[encoded data removed]",
      "text/plain": [
       "<Figure size 432x288 with 1 Axes>"
      ]
     },
     "metadata": {
      "needs_background": "light"
     },
     "output_type": "display_data"
    }
   ],
   "source": [
    "epochs = range(1,len(mlp_model.loss_curve_)+1)\n",
    "\n",
    "plt.plot(epochs, mlp_model.loss_curve_, label='train')\n",
    "plt.xlabel(\"epochs\")\n",
    "plt.ylabel(\"loss\")\n",
    "plt.grid()\n",
    "plt.legend()\n",
    "plt.show()"
   ]
  },
  {
   "cell_type": "markdown",
   "id": "physical-provider",
   "metadata": {},
   "source": [
    "## Validação"
   ]
  },
  {
   "cell_type": "code",
   "execution_count": 16,
   "id": "least-participation",
   "metadata": {},
   "outputs": [],
   "source": [
    "def validation(y_true, y_pred):\n",
    "    cm = myUtils.confusion_matrix(y_true, y_pred)\n",
    "    sns.heatmap(cm, annot=True)\n",
    "    plt.show()\n",
    "\n",
    "    metrics = myUtils.compute_metrics_from_cm(cm)\n",
    "    print(\"Accuracy = {:.2f}%\".format(metrics['accuracy']*100))"
   ]
  },
  {
   "cell_type": "markdown",
   "id": "returning-medline",
   "metadata": {},
   "source": [
    "**Simple Classifier**"
   ]
  },
  {
   "cell_type": "code",
   "execution_count": 17,
   "id": "technological-samuel",
   "metadata": {},
   "outputs": [
    {
     "data": {
      "image/png": "[encoded data removed]",
      "text/plain": [
       "<Figure size 432x288 with 2 Axes>"
      ]
     },
     "metadata": {
      "needs_background": "light"
     },
     "output_type": "display_data"
    },
    {
     "name": "stdout",
     "output_type": "stream",
     "text": [
      "Accuracy = 81.86%\n"
     ]
    }
   ],
   "source": [
    "y_pred = my_simple_classifier(X_ear_test, thr=0.25)\n",
    "\n",
    "validation(y_test, y_pred)"
   ]
  },
  {
   "cell_type": "markdown",
   "id": "balanced-basis",
   "metadata": {},
   "source": [
    "**Decision Tree**"
   ]
  },
  {
   "cell_type": "code",
   "execution_count": 18,
   "id": "killing-stock",
   "metadata": {},
   "outputs": [
    {
     "data": {
      "image/png": "[encoded data removed]",
      "text/plain": [
       "<Figure size 432x288 with 2 Axes>"
      ]
     },
     "metadata": {
      "needs_background": "light"
     },
     "output_type": "display_data"
    },
    {
     "name": "stdout",
     "output_type": "stream",
     "text": [
      "Accuracy = 75.46%\n"
     ]
    }
   ],
   "source": [
    "y_pred = tree_model.predict(X_ear_test)\n",
    "\n",
    "validation(y_test, y_pred)"
   ]
  },
  {
   "cell_type": "markdown",
   "id": "conventional-solution",
   "metadata": {},
   "source": [
    "**Random Forest**"
   ]
  },
  {
   "cell_type": "code",
   "execution_count": 19,
   "id": "split-snowboard",
   "metadata": {},
   "outputs": [
    {
     "data": {
      "image/png": "[encoded data removed]",
      "text/plain": [
       "<Figure size 432x288 with 2 Axes>"
      ]
     },
     "metadata": {
      "needs_background": "light"
     },
     "output_type": "display_data"
    },
    {
     "name": "stdout",
     "output_type": "stream",
     "text": [
      "Accuracy = 81.24%\n"
     ]
    }
   ],
   "source": [
    "y_pred = rforest_model.predict(X_ear_test)\n",
    "\n",
    "validation(y_test, y_pred)"
   ]
  },
  {
   "cell_type": "markdown",
   "id": "resistant-sixth",
   "metadata": {},
   "source": [
    "**SVM**"
   ]
  },
  {
   "cell_type": "code",
   "execution_count": 20,
   "id": "seven-vision",
   "metadata": {},
   "outputs": [
    {
     "data": {
      "image/png": "[encoded data removed]",
      "text/plain": [
       "<Figure size 432x288 with 2 Axes>"
      ]
     },
     "metadata": {
      "needs_background": "light"
     },
     "output_type": "display_data"
    },
    {
     "name": "stdout",
     "output_type": "stream",
     "text": [
      "Accuracy = 84.12%\n"
     ]
    }
   ],
   "source": [
    "y_pred = svm_model.predict(X_ear_test)\n",
    "\n",
    "validation(y_test, y_pred)"
   ]
  },
  {
   "cell_type": "markdown",
   "id": "textile-student",
   "metadata": {},
   "source": [
    "**MLP**"
   ]
  },
  {
   "cell_type": "code",
   "execution_count": 21,
   "id": "urban-router",
   "metadata": {},
   "outputs": [
    {
     "data": {
      "image/png": "[encoded data removed]",
      "text/plain": [
       "<Figure size 432x288 with 2 Axes>"
      ]
     },
     "metadata": {
      "needs_background": "light"
     },
     "output_type": "display_data"
    },
    {
     "name": "stdout",
     "output_type": "stream",
     "text": [
      "Accuracy = 84.12%\n"
     ]
    }
   ],
   "source": [
    "y_pred = mlp_model.predict(X_ear_test)\n",
    "\n",
    "validation(y_test, y_pred)"
   ]
  },
  {
   "cell_type": "markdown",
   "id": "genuine-albuquerque",
   "metadata": {},
   "source": [
    "### Usando EAR + HIST"
   ]
  },
  {
   "cell_type": "code",
   "execution_count": 22,
   "id": "spread-temple",
   "metadata": {},
   "outputs": [
    {
     "data": {
      "text/plain": [
       "DecisionTreeClassifier()"
      ]
     },
     "execution_count": 22,
     "metadata": {},
     "output_type": "execute_result"
    }
   ],
   "source": [
    "tree_model.fit(X_ear_hist_train, y_train)"
   ]
  },
  {
   "cell_type": "code",
   "execution_count": 23,
   "id": "renewable-canberra",
   "metadata": {},
   "outputs": [
    {
     "data": {
      "text/plain": [
       "RandomForestClassifier(n_estimators=10)"
      ]
     },
     "execution_count": 23,
     "metadata": {},
     "output_type": "execute_result"
    }
   ],
   "source": [
    "rforest_model.fit(X_ear_hist_train, y_train)"
   ]
  },
  {
   "cell_type": "code",
   "execution_count": 24,
   "id": "dried-documentary",
   "metadata": {},
   "outputs": [
    {
     "data": {
      "text/plain": [
       "SVC(C=2.0)"
      ]
     },
     "execution_count": 24,
     "metadata": {},
     "output_type": "execute_result"
    }
   ],
   "source": [
    "svm_model.fit(X_ear_hist_train, y_train)"
   ]
  },
  {
   "cell_type": "code",
   "execution_count": 25,
   "id": "oriented-signal",
   "metadata": {},
   "outputs": [
    {
     "name": "stdout",
     "output_type": "stream",
     "text": [
      "Best Valid Score =  0.8969072164948454\n"
     ]
    }
   ],
   "source": [
    "mlp_model.fit(X_ear_hist_train, y_train)\n",
    "print(\"Best Valid Score = \", mlp_model.best_validation_score_)"
   ]
  },
  {
   "cell_type": "code",
   "execution_count": 26,
   "id": "written-stations",
   "metadata": {},
   "outputs": [
    {
     "data": {
      "image/png": "[encoded data removed]",
      "text/plain": [
       "<Figure size 432x288 with 1 Axes>"
      ]
     },
     "metadata": {
      "needs_background": "light"
     },
     "output_type": "display_data"
    }
   ],
   "source": [
    "epochs = range(1,len(mlp_model.loss_curve_)+1)\n",
    "\n",
    "plt.plot(epochs, mlp_model.loss_curve_, label='train')\n",
    "plt.xlabel(\"epochs\")\n",
    "plt.ylabel(\"loss\")\n",
    "plt.grid()\n",
    "plt.legend()\n",
    "plt.show()"
   ]
  },
  {
   "cell_type": "markdown",
   "id": "funny-houston",
   "metadata": {},
   "source": [
    "## Validação"
   ]
  },
  {
   "cell_type": "markdown",
   "id": "electrical-active",
   "metadata": {},
   "source": [
    "**Decision Tree**"
   ]
  },
  {
   "cell_type": "code",
   "execution_count": 27,
   "id": "other-bangkok",
   "metadata": {},
   "outputs": [
    {
     "data": {
      "image/png": "[encoded data removed]",
      "text/plain": [
       "<Figure size 432x288 with 2 Axes>"
      ]
     },
     "metadata": {
      "needs_background": "light"
     },
     "output_type": "display_data"
    },
    {
     "name": "stdout",
     "output_type": "stream",
     "text": [
      "Accuracy = 78.76%\n"
     ]
    }
   ],
   "source": [
    "y_pred = tree_model.predict(X_ear_hist_test)\n",
    "\n",
    "validation(y_test, y_pred)"
   ]
  },
  {
   "cell_type": "markdown",
   "id": "stopped-eleven",
   "metadata": {},
   "source": [
    "**Random Forest**"
   ]
  },
  {
   "cell_type": "code",
   "execution_count": 28,
   "id": "careful-university",
   "metadata": {},
   "outputs": [
    {
     "data": {
      "image/png": "[encoded data removed]",
      "text/plain": [
       "<Figure size 432x288 with 2 Axes>"
      ]
     },
     "metadata": {
      "needs_background": "light"
     },
     "output_type": "display_data"
    },
    {
     "name": "stdout",
     "output_type": "stream",
     "text": [
      "Accuracy = 83.71%\n"
     ]
    }
   ],
   "source": [
    "y_pred = rforest_model.predict(X_ear_hist_test)\n",
    "\n",
    "validation(y_test, y_pred)"
   ]
  },
  {
   "cell_type": "markdown",
   "id": "final-humanity",
   "metadata": {},
   "source": [
    "**SVM**"
   ]
  },
  {
   "cell_type": "code",
   "execution_count": 29,
   "id": "adaptive-spain",
   "metadata": {},
   "outputs": [
    {
     "data": {
      "image/png": "[encoded data removed]",
      "text/plain": [
       "<Figure size 432x288 with 2 Axes>"
      ]
     },
     "metadata": {
      "needs_background": "light"
     },
     "output_type": "display_data"
    },
    {
     "name": "stdout",
     "output_type": "stream",
     "text": [
      "Accuracy = 86.80%\n"
     ]
    }
   ],
   "source": [
    "y_pred = svm_model.predict(X_ear_hist_test)\n",
    "\n",
    "validation(y_test, y_pred)"
   ]
  },
  {
   "cell_type": "markdown",
   "id": "romance-induction",
   "metadata": {},
   "source": [
    "**MLP**"
   ]
  },
  {
   "cell_type": "code",
   "execution_count": 30,
   "id": "classified-softball",
   "metadata": {},
   "outputs": [
    {
     "data": {
      "image/png": "[encoded data removed]",
      "text/plain": [
       "<Figure size 432x288 with 2 Axes>"
      ]
     },
     "metadata": {
      "needs_background": "light"
     },
     "output_type": "display_data"
    },
    {
     "name": "stdout",
     "output_type": "stream",
     "text": [
      "Accuracy = 85.36%\n"
     ]
    }
   ],
   "source": [
    "y_pred = mlp_model.predict(X_ear_hist_test)\n",
    "\n",
    "validation(y_test, y_pred)"
   ]
  }
 ],
 "metadata": {
  "kernelspec": {
   "display_name": "Python 3",
   "language": "python",
   "name": "python3"
  },
  "language_info": {
   "codemirror_mode": {
    "name": "ipython",
    "version": 3
   },
   "file_extension": ".py",
   "mimetype": "text/x-python",
   "name": "python",
   "nbconvert_exporter": "python",
   "pygments_lexer": "ipython3",
   "version": "3.8.5"
  }
 },
 "nbformat": 4,
 "nbformat_minor": 5
}
