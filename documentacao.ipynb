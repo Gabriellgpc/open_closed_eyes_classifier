{
 "cells": [
  {
   "cell_type": "markdown",
   "id": "consistent-numbers",
   "metadata": {},
   "source": [
    "# Resultados dos Experimentos\n",
    "Autor: Luís Gabriel Pereira Condados"
   ]
  },
  {
   "cell_type": "markdown",
   "id": "previous-steel",
   "metadata": {},
   "source": [
    "## Análise dos Modelos"
   ]
  },
  {
   "cell_type": "markdown",
   "id": "academic-latitude",
   "metadata": {},
   "source": [
    "### Features: EAR\n",
    "Usando a informação da proporção das marcações dos olhos (eyes aspectio ratio, EAR)\n",
    "\n",
    "**Número de features**: 2"
   ]
  },
  {
   "cell_type": "markdown",
   "id": "known-tension",
   "metadata": {},
   "source": [
    "![](images/ilustracao_EAR.png)"
   ]
  },
  {
   "cell_type": "markdown",
   "id": "incoming-virgin",
   "metadata": {},
   "source": [
    "|Modelo| Features | Acurácia | F1-Score |\n",
    "|:----:|:--------:|:--------:|:--------:|\n",
    "|Simplest| EAR|?|?|\n",
    "|DecisionTree| EAR|?|?|\n",
    "|RandomForest| EAR|?|?|\n",
    "|SVM| EAR|?|?|\n",
    "|MLP| EAR|?|?|"
   ]
  },
  {
   "cell_type": "markdown",
   "id": "addressed-longitude",
   "metadata": {},
   "source": [
    "## Features: EAR + HISTOGRAM\n",
    "Proporção das marcações dos olhos + histograma(8 features, 8 bins/grupos) da região dos olhos\n",
    "\n",
    "**Número de features**: 10"
   ]
  },
  {
   "cell_type": "markdown",
   "id": "urban-expense",
   "metadata": {},
   "source": [
    "**Exemplo da segmentação da região dos olhos. O histograma da imagem segmentada foi utilizado como feature.**"
   ]
  },
  {
   "cell_type": "markdown",
   "id": "operating-sculpture",
   "metadata": {},
   "source": [
    "![](images/image_seg.png)"
   ]
  },
  {
   "cell_type": "markdown",
   "id": "certain-engineer",
   "metadata": {},
   "source": [
    "|Modelo| Features | Acurácia | F1-Score |\n",
    "|:----:|:--------:|:--------:|:--------:|\n",
    "|DecisionTree| EAR + HIST|?|?|\n",
    "|RandomForest| EAR + HIST|?|?|\n",
    "|SVM| EAR + HIST|?|?|\n",
    "|MLP| EAR + HIST|?|?|"
   ]
  },
  {
   "cell_type": "markdown",
   "id": "joined-inquiry",
   "metadata": {},
   "source": [
    "## Features: Imagem contendo apenas a região dos olhos"
   ]
  },
  {
   "cell_type": "markdown",
   "id": "governing-quality",
   "metadata": {},
   "source": [
    "|Modelo| Features | Acurácia | F1-Score |\n",
    "|:----:|:--------:|:--------:|:--------:|\n",
    "|CNN| Gray Scale Image (32 x 32)|?|?|"
   ]
  }
 ],
 "metadata": {
  "kernelspec": {
   "display_name": "Python 3",
   "language": "python",
   "name": "python3"
  },
  "language_info": {
   "codemirror_mode": {
    "name": "ipython",
    "version": 3
   },
   "file_extension": ".py",
   "mimetype": "text/x-python",
   "name": "python",
   "nbconvert_exporter": "python",
   "pygments_lexer": "ipython3",
   "version": "3.8.5"
  }
 },
 "nbformat": 4,
 "nbformat_minor": 5
}
