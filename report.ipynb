{
 "cells": [
  {
   "cell_type": "markdown",
   "id": "consistent-numbers",
   "metadata": {},
   "source": [
    "# Classificador facial de olhos abertos ou fechados\n",
    "Autor: Luís Gabriel Pereira Condados"
   ]
  },
  {
   "cell_type": "markdown",
   "id": "alpine-scenario",
   "metadata": {},
   "source": [
    "## Dataset"
   ]
  },
  {
   "cell_type": "markdown",
   "id": "nuclear-career",
   "metadata": {},
   "source": [
    "2400 imagens coloridas(RGB) 100 x 100 pixels"
   ]
  },
  {
   "cell_type": "markdown",
   "id": "instant-andorra",
   "metadata": {},
   "source": [
    "Link para download do dataset: https://drive.google.com/file/d/1niyedvpnATsWMnhcy_DfNNhPGc2J_G8V/view?usp=sharing"
   ]
  },
  {
   "cell_type": "markdown",
   "id": "still-absorption",
   "metadata": {},
   "source": [
    "## Face Landmark"
   ]
  },
  {
   "cell_type": "markdown",
   "id": "advised-aluminum",
   "metadata": {},
   "source": [
    "Links importantes:\n",
    "[dlib](http://dlib.net/)\n",
    "[dlib blog](http://blog.dlib.net/)"
   ]
  },
  {
   "cell_type": "markdown",
   "id": "loving-morning",
   "metadata": {},
   "source": [
    "Download do shape_predictor: http://dlib.net/files/shape_predictor_68_face_landmarks.dat.bz2"
   ]
  },
  {
   "cell_type": "markdown",
   "id": "piano-gateway",
   "metadata": {},
   "source": [
    "![](images/facial_landmarks_68.jpg)"
   ]
  },
  {
   "cell_type": "markdown",
   "id": "previous-steel",
   "metadata": {},
   "source": [
    "## Estratégias"
   ]
  },
  {
   "cell_type": "markdown",
   "id": "academic-latitude",
   "metadata": {},
   "source": [
    "### Features: EAR\n",
    "Usando a informação da proporção das marcações dos olhos (eyes aspectio ratio, EAR)\n",
    "\n",
    "**Número de features**: 2"
   ]
  },
  {
   "cell_type": "markdown",
   "id": "known-tension",
   "metadata": {},
   "source": [
    "![](images/ilustracao_EAR.png)"
   ]
  },
  {
   "cell_type": "markdown",
   "id": "traditional-continuity",
   "metadata": {},
   "source": [
    "## Distribuição dos dados com relação a porporção dos pontos dos olhos"
   ]
  },
  {
   "cell_type": "markdown",
   "id": "endless-chance",
   "metadata": {},
   "source": [
    "![](images/scatter_ear.png)"
   ]
  },
  {
   "cell_type": "markdown",
   "id": "chicken-holly",
   "metadata": {},
   "source": [
    "### Resultados para os diferentes modelos"
   ]
  },
  {
   "cell_type": "markdown",
   "id": "incoming-virgin",
   "metadata": {},
   "source": [
    "|Modelo| Features | Acurácia |\n",
    "|:----:|:--------:|:--------:|\n",
    "|Simplest| EAR|81.86%|\n",
    "|DecisionTree| EAR|76.08%|\n",
    "|RandomForest| EAR|81.24%|\n",
    "|SVM| EAR|84.12%|\n",
    "|MLP| EAR|83.71%|"
   ]
  },
  {
   "cell_type": "markdown",
   "id": "addressed-longitude",
   "metadata": {},
   "source": [
    "## Features: EAR + HISTOGRAM"
   ]
  },
  {
   "cell_type": "markdown",
   "id": "urban-expense",
   "metadata": {},
   "source": [
    "**Exemplo da segmentação da região dos olhos. O histograma da imagem segmentada foi utilizado como feature.**"
   ]
  },
  {
   "cell_type": "markdown",
   "id": "reasonable-hormone",
   "metadata": {},
   "source": [
    "Na maioria das vezes usar apenas o EAR como caracteristica, para classificar se os olhos estão abertos ou fechados, deve funciona com elevada taxa de acerto, porém dessa forma o modelo dependerá totalmente do sucesso do preditor que identifica os pontos faciais (landmarks). \n",
    "\n",
    "**Exemplo de falha:**"
   ]
  },
  {
   "cell_type": "markdown",
   "id": "designing-mason",
   "metadata": {},
   "source": [
    "![](images/predictor_fail_1.png)"
   ]
  },
  {
   "cell_type": "markdown",
   "id": "strong-prescription",
   "metadata": {},
   "source": [
    "Um conjunto de features que pode ser utilizada para tentar diminuir a dependência do sucesso do preditor de formato facial é o histograma da imagem, mais especificamente o histograma da região dos olhos. \n",
    "\n",
    "Para conseguir o histograma apenas da região dos olhos foi realizado a segmentação dessa região utilizando os pontos que indicam a posição dos olhos (mesmo com a falha do preditor, se a imagem for ocupada com uma única face, os pontos que representam a região dos olhos apresentam um baixo erro, apenas seu EAR que apresentará um alto erro)"
   ]
  },
  {
   "cell_type": "markdown",
   "id": "operating-sculpture",
   "metadata": {},
   "source": [
    "![](images/image_seg.png)"
   ]
  },
  {
   "cell_type": "markdown",
   "id": "julian-garlic",
   "metadata": {},
   "source": [
    "**Segmentação dos olhos em uma imagem onde o preditor não funcionou corretamente:**"
   ]
  },
  {
   "cell_type": "markdown",
   "id": "answering-defense",
   "metadata": {},
   "source": [
    "![](images/predictor_fail_2.png)"
   ]
  },
  {
   "cell_type": "markdown",
   "id": "finnish-celtic",
   "metadata": {},
   "source": [
    "### Resultados para os diferentes modelos"
   ]
  },
  {
   "cell_type": "markdown",
   "id": "united-honor",
   "metadata": {},
   "source": [
    "Proporção das marcações dos olhos + histograma(8 features, 8 bins/grupos) da região dos olhos\n",
    "\n",
    "**Número de features**: 10"
   ]
  },
  {
   "cell_type": "markdown",
   "id": "certain-engineer",
   "metadata": {},
   "source": [
    "|Modelo| Features | Acurácia |\n",
    "|:----:|:--------:|:--------:|\n",
    "|DecisionTree| EAR + HIST|78.56%|\n",
    "|RandomForest| EAR + HIST|84.12%|\n",
    "|SVM| EAR + HIST|86.80%|\n",
    "|MLP| EAR + HIST|85.98%|"
   ]
  },
  {
   "cell_type": "markdown",
   "id": "joined-inquiry",
   "metadata": {},
   "source": [
    "## Features: Imagem contendo apenas a região dos olhos"
   ]
  },
  {
   "cell_type": "markdown",
   "id": "governing-quality",
   "metadata": {},
   "source": [
    "|Modelo| Features | Acurácia |\n",
    "|:----:|:--------:|:--------:|\n",
    "|CNN| Gray Scale Image (32 x 32)|?|"
   ]
  },
  {
   "cell_type": "markdown",
   "id": "separated-christianity",
   "metadata": {},
   "source": [
    "## Compilando os resultados"
   ]
  },
  {
   "cell_type": "markdown",
   "id": "spread-parker",
   "metadata": {},
   "source": [
    "|Modelo| Features | Acurácia |\n",
    "|:----:|:--------:|:--------:|\n",
    "|DecisionTree| EAR|76.08%|\n",
    "|DecisionTree| EAR + HIST|78.56%|\n",
    "|RandomForest| EAR|81.24%|\n",
    "|Simplest| EAR|81.86%|\n",
    "|MLP| EAR|83.71%|\n",
    "|SVM| EAR|84.12%|\n",
    "|RandomForest| EAR + HIST|84.12%|\n",
    "|MLP| EAR + HIST|85.98%|\n",
    "|SVM| EAR + HIST|86.80%|"
   ]
  }
 ],
 "metadata": {
  "kernelspec": {
   "display_name": "Python 3",
   "language": "python",
   "name": "python3"
  },
  "language_info": {
   "codemirror_mode": {
    "name": "ipython",
    "version": 3
   },
   "file_extension": ".py",
   "mimetype": "text/x-python",
   "name": "python",
   "nbconvert_exporter": "python",
   "pygments_lexer": "ipython3",
   "version": "3.8.5"
  }
 },
 "nbformat": 4,
 "nbformat_minor": 5
}
